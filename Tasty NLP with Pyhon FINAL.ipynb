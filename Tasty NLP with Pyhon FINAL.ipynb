{
 "cells": [
  {
   "cell_type": "code",
   "execution_count": 1,
   "metadata": {
    "collapsed": false
   },
   "outputs": [
    {
     "name": "stderr",
     "output_type": "stream",
     "text": [
      "C:\\Users\\schapira.d\\AppData\\Local\\Continuum\\Anaconda3\\lib\\site-packages\\gensim\\utils.py:862: UserWarning: detected Windows; aliasing chunkize to chunkize_serial\n",
      "  warnings.warn(\"detected Windows; aliasing chunkize to chunkize_serial\")\n"
     ]
    }
   ],
   "source": [
    "import numpy as np\n",
    "import pandas as pd\n",
    "import time\n",
    "import random\n",
    "from random import sample\n",
    "import string\n",
    "import pickle\n",
    "\n",
    "# nltk models\n",
    "import nltk\n",
    "from nltk.corpus import stopwords \n",
    "from nltk.tokenize import word_tokenize\n",
    "from nltk.tag import pos_tag\n",
    "from nltk.stem.wordnet import WordNetLemmatizer\n",
    "\n",
    "#spaCy\n",
    "import spacy\n",
    "from spacy import displacy\n",
    "\n",
    "# gensim models\n",
    "import gensim\n",
    "from gensim import corpora, models\n",
    "from gensim.models.ldamulticore import LdaMulticore\n",
    "from gensim.models.phrases import Phrases, Phraser\n",
    "\n",
    "# Visualize the topics\n",
    "import pyLDAvis\n",
    "import pyLDAvis.gensim "
   ]
  },
  {
   "cell_type": "markdown",
   "metadata": {},
   "source": [
    "# Meet spaCy - \"It's minimal and opinionated\"\n",
    "\n",
    "spaCy is a free, **open-source** library for advanced **Natural Language Processing (NLP)** in Python.\n",
    "\n",
    "Features:\n",
    "\n",
    "-  Tokenization\n",
    "-  POS Tagging\n",
    "-  Dependency Parsing\n",
    "-  Lemmatization\n",
    "-  Sentence Detection\n",
    "-  Entity Recognition\n",
    "\n",
    "And more...\n",
    "\n",
    "https://spacy.io/\n"
   ]
  },
  {
   "cell_type": "code",
   "execution_count": 2,
   "metadata": {
    "collapsed": true
   },
   "outputs": [],
   "source": [
    "nlp = spacy.load('en_core_web_lg')"
   ]
  },
  {
   "cell_type": "code",
   "execution_count": 3,
   "metadata": {
    "collapsed": false
   },
   "outputs": [
    {
     "name": "stdout",
     "output_type": "stream",
     "text": [
      "Wall time: 15.6 ms\n"
     ]
    }
   ],
   "source": [
    "%%time\n",
    "text = 'I love this restaurant in Newcastle. Delicious cocktails and it has a really friendly atmosphere.'\n",
    "\n",
    "doc = nlp(text)\n",
    "doc"
   ]
  },
  {
   "cell_type": "code",
   "execution_count": 4,
   "metadata": {
    "collapsed": false
   },
   "outputs": [
    {
     "data": {
      "text/html": [
       "<div>\n",
       "<style>\n",
       "    .dataframe thead tr:only-child th {\n",
       "        text-align: right;\n",
       "    }\n",
       "\n",
       "    .dataframe thead th {\n",
       "        text-align: left;\n",
       "    }\n",
       "\n",
       "    .dataframe tbody tr th {\n",
       "        vertical-align: top;\n",
       "    }\n",
       "</style>\n",
       "<table border=\"1\" class=\"dataframe\">\n",
       "  <thead>\n",
       "    <tr style=\"text-align: right;\">\n",
       "      <th></th>\n",
       "      <th>token_text</th>\n",
       "      <th>token_lemma</th>\n",
       "      <th>token_pos</th>\n",
       "      <th>token_entity</th>\n",
       "      <th>token_is_stop</th>\n",
       "      <th>token_vec</th>\n",
       "    </tr>\n",
       "  </thead>\n",
       "  <tbody>\n",
       "    <tr>\n",
       "      <th>0</th>\n",
       "      <td>I</td>\n",
       "      <td>-PRON-</td>\n",
       "      <td>PRON</td>\n",
       "      <td></td>\n",
       "      <td>False</td>\n",
       "      <td>[0.18733, 0.40595, -0.51174, -0.55482, 0.03971...</td>\n",
       "    </tr>\n",
       "    <tr>\n",
       "      <th>1</th>\n",
       "      <td>love</td>\n",
       "      <td>love</td>\n",
       "      <td>VERB</td>\n",
       "      <td></td>\n",
       "      <td>False</td>\n",
       "      <td>[0.13949, 0.53453, -0.25247, -0.12565, 0.04874...</td>\n",
       "    </tr>\n",
       "    <tr>\n",
       "      <th>2</th>\n",
       "      <td>this</td>\n",
       "      <td>this</td>\n",
       "      <td>DET</td>\n",
       "      <td></td>\n",
       "      <td>False</td>\n",
       "      <td>[-0.087595, 0.35502, 0.063868, 0.29292, -0.236...</td>\n",
       "    </tr>\n",
       "    <tr>\n",
       "      <th>3</th>\n",
       "      <td>restaurant</td>\n",
       "      <td>restaurant</td>\n",
       "      <td>NOUN</td>\n",
       "      <td></td>\n",
       "      <td>False</td>\n",
       "      <td>[0.47022, 0.027832, 0.33726, -0.60538, 1.1151,...</td>\n",
       "    </tr>\n",
       "    <tr>\n",
       "      <th>4</th>\n",
       "      <td>in</td>\n",
       "      <td>in</td>\n",
       "      <td>ADP</td>\n",
       "      <td></td>\n",
       "      <td>False</td>\n",
       "      <td>[0.089187, 0.25792, 0.26282, -0.029365, 0.4718...</td>\n",
       "    </tr>\n",
       "    <tr>\n",
       "      <th>5</th>\n",
       "      <td>Newcastle</td>\n",
       "      <td>newcastle</td>\n",
       "      <td>PROPN</td>\n",
       "      <td>GPE</td>\n",
       "      <td>False</td>\n",
       "      <td>[0.39131, -0.4687, -0.26697, -0.45751, 0.85533...</td>\n",
       "    </tr>\n",
       "    <tr>\n",
       "      <th>6</th>\n",
       "      <td>.</td>\n",
       "      <td>.</td>\n",
       "      <td>PUNCT</td>\n",
       "      <td></td>\n",
       "      <td>False</td>\n",
       "      <td>[0.012001, 0.20751, -0.12578, -0.59325, 0.1252...</td>\n",
       "    </tr>\n",
       "    <tr>\n",
       "      <th>7</th>\n",
       "      <td>Delicious</td>\n",
       "      <td>delicious</td>\n",
       "      <td>ADJ</td>\n",
       "      <td></td>\n",
       "      <td>False</td>\n",
       "      <td>[-0.27801, -0.14519, 0.49453, 0.12529, -0.0576...</td>\n",
       "    </tr>\n",
       "    <tr>\n",
       "      <th>8</th>\n",
       "      <td>cocktails</td>\n",
       "      <td>cocktail</td>\n",
       "      <td>NOUN</td>\n",
       "      <td></td>\n",
       "      <td>False</td>\n",
       "      <td>[-0.054778, -0.17894, 0.70387, -0.51988, 0.156...</td>\n",
       "    </tr>\n",
       "    <tr>\n",
       "      <th>9</th>\n",
       "      <td>and</td>\n",
       "      <td>and</td>\n",
       "      <td>CCONJ</td>\n",
       "      <td></td>\n",
       "      <td>False</td>\n",
       "      <td>[-0.18567, 0.066008, -0.25209, -0.11725, 0.265...</td>\n",
       "    </tr>\n",
       "    <tr>\n",
       "      <th>10</th>\n",
       "      <td>it</td>\n",
       "      <td>-PRON-</td>\n",
       "      <td>PRON</td>\n",
       "      <td></td>\n",
       "      <td>False</td>\n",
       "      <td>[0.0013629, 0.35653, -0.055497, -0.16607, 0.00...</td>\n",
       "    </tr>\n",
       "    <tr>\n",
       "      <th>11</th>\n",
       "      <td>has</td>\n",
       "      <td>have</td>\n",
       "      <td>VERB</td>\n",
       "      <td></td>\n",
       "      <td>False</td>\n",
       "      <td>[0.08552, 0.50152, 0.11266, -0.18826, 0.031677...</td>\n",
       "    </tr>\n",
       "    <tr>\n",
       "      <th>12</th>\n",
       "      <td>a</td>\n",
       "      <td>a</td>\n",
       "      <td>DET</td>\n",
       "      <td></td>\n",
       "      <td>False</td>\n",
       "      <td>[0.043798, 0.024779, -0.20937, 0.49745, 0.3601...</td>\n",
       "    </tr>\n",
       "    <tr>\n",
       "      <th>13</th>\n",
       "      <td>really</td>\n",
       "      <td>really</td>\n",
       "      <td>ADV</td>\n",
       "      <td></td>\n",
       "      <td>False</td>\n",
       "      <td>[-0.21162, 0.50881, -0.35808, -0.15994, 0.0597...</td>\n",
       "    </tr>\n",
       "    <tr>\n",
       "      <th>14</th>\n",
       "      <td>friendly</td>\n",
       "      <td>friendly</td>\n",
       "      <td>ADJ</td>\n",
       "      <td></td>\n",
       "      <td>False</td>\n",
       "      <td>[-0.23907, 0.17458, -0.50867, 0.047861, 0.4431...</td>\n",
       "    </tr>\n",
       "    <tr>\n",
       "      <th>15</th>\n",
       "      <td>atmosphere</td>\n",
       "      <td>atmosphere</td>\n",
       "      <td>NOUN</td>\n",
       "      <td></td>\n",
       "      <td>False</td>\n",
       "      <td>[0.4161, 0.50855, 0.00019211, 0.0097915, -0.17...</td>\n",
       "    </tr>\n",
       "    <tr>\n",
       "      <th>16</th>\n",
       "      <td>.</td>\n",
       "      <td>.</td>\n",
       "      <td>PUNCT</td>\n",
       "      <td></td>\n",
       "      <td>False</td>\n",
       "      <td>[0.012001, 0.20751, -0.12578, -0.59325, 0.1252...</td>\n",
       "    </tr>\n",
       "  </tbody>\n",
       "</table>\n",
       "</div>"
      ],
      "text/plain": [
       "    token_text token_lemma token_pos token_entity  token_is_stop  \\\n",
       "0            I      -PRON-      PRON                       False   \n",
       "1         love        love      VERB                       False   \n",
       "2         this        this       DET                       False   \n",
       "3   restaurant  restaurant      NOUN                       False   \n",
       "4           in          in       ADP                       False   \n",
       "5    Newcastle   newcastle     PROPN          GPE          False   \n",
       "6            .           .     PUNCT                       False   \n",
       "7    Delicious   delicious       ADJ                       False   \n",
       "8    cocktails    cocktail      NOUN                       False   \n",
       "9          and         and     CCONJ                       False   \n",
       "10          it      -PRON-      PRON                       False   \n",
       "11         has        have      VERB                       False   \n",
       "12           a           a       DET                       False   \n",
       "13      really      really       ADV                       False   \n",
       "14    friendly    friendly       ADJ                       False   \n",
       "15  atmosphere  atmosphere      NOUN                       False   \n",
       "16           .           .     PUNCT                       False   \n",
       "\n",
       "                                            token_vec  \n",
       "0   [0.18733, 0.40595, -0.51174, -0.55482, 0.03971...  \n",
       "1   [0.13949, 0.53453, -0.25247, -0.12565, 0.04874...  \n",
       "2   [-0.087595, 0.35502, 0.063868, 0.29292, -0.236...  \n",
       "3   [0.47022, 0.027832, 0.33726, -0.60538, 1.1151,...  \n",
       "4   [0.089187, 0.25792, 0.26282, -0.029365, 0.4718...  \n",
       "5   [0.39131, -0.4687, -0.26697, -0.45751, 0.85533...  \n",
       "6   [0.012001, 0.20751, -0.12578, -0.59325, 0.1252...  \n",
       "7   [-0.27801, -0.14519, 0.49453, 0.12529, -0.0576...  \n",
       "8   [-0.054778, -0.17894, 0.70387, -0.51988, 0.156...  \n",
       "9   [-0.18567, 0.066008, -0.25209, -0.11725, 0.265...  \n",
       "10  [0.0013629, 0.35653, -0.055497, -0.16607, 0.00...  \n",
       "11  [0.08552, 0.50152, 0.11266, -0.18826, 0.031677...  \n",
       "12  [0.043798, 0.024779, -0.20937, 0.49745, 0.3601...  \n",
       "13  [-0.21162, 0.50881, -0.35808, -0.15994, 0.0597...  \n",
       "14  [-0.23907, 0.17458, -0.50867, 0.047861, 0.4431...  \n",
       "15  [0.4161, 0.50855, 0.00019211, 0.0097915, -0.17...  \n",
       "16  [0.012001, 0.20751, -0.12578, -0.59325, 0.1252...  "
      ]
     },
     "execution_count": 4,
     "metadata": {},
     "output_type": "execute_result"
    }
   ],
   "source": [
    "token_text = [token.text for token in doc]\n",
    "token_pos = [token.pos_ for token in doc]\n",
    "token_lemma = [token.lemma_ for token in doc]\n",
    "token_entity = [token.ent_type_ for token in doc]\n",
    "token_stop = [token.is_stop for token in doc]\n",
    "token_vec = [token.vector for token in doc]\n",
    "\n",
    "headers = ['token_text','token_lemma','token_pos','token_entity','token_is_stop','token_vec']\n",
    "\n",
    "pd.DataFrame(list(zip(token_text, token_lemma, token_pos, token_entity,token_stop,token_vec)),columns=headers)"
   ]
  },
  {
   "cell_type": "code",
   "execution_count": 5,
   "metadata": {
    "collapsed": false
   },
   "outputs": [
    {
     "data": {
      "text/html": [
       "<div>\n",
       "<style>\n",
       "    .dataframe thead tr:only-child th {\n",
       "        text-align: right;\n",
       "    }\n",
       "\n",
       "    .dataframe thead th {\n",
       "        text-align: left;\n",
       "    }\n",
       "\n",
       "    .dataframe tbody tr th {\n",
       "        vertical-align: top;\n",
       "    }\n",
       "</style>\n",
       "<table border=\"1\" class=\"dataframe\">\n",
       "  <thead>\n",
       "    <tr style=\"text-align: right;\">\n",
       "      <th></th>\n",
       "      <th>token_text</th>\n",
       "      <th>token_head</th>\n",
       "      <th>token_children</th>\n",
       "    </tr>\n",
       "  </thead>\n",
       "  <tbody>\n",
       "    <tr>\n",
       "      <th>0</th>\n",
       "      <td>I</td>\n",
       "      <td>love</td>\n",
       "      <td>[]</td>\n",
       "    </tr>\n",
       "    <tr>\n",
       "      <th>1</th>\n",
       "      <td>love</td>\n",
       "      <td>love</td>\n",
       "      <td>[I, restaurant, in, .]</td>\n",
       "    </tr>\n",
       "    <tr>\n",
       "      <th>2</th>\n",
       "      <td>this</td>\n",
       "      <td>restaurant</td>\n",
       "      <td>[]</td>\n",
       "    </tr>\n",
       "    <tr>\n",
       "      <th>3</th>\n",
       "      <td>restaurant</td>\n",
       "      <td>love</td>\n",
       "      <td>[this]</td>\n",
       "    </tr>\n",
       "    <tr>\n",
       "      <th>4</th>\n",
       "      <td>in</td>\n",
       "      <td>love</td>\n",
       "      <td>[Newcastle]</td>\n",
       "    </tr>\n",
       "    <tr>\n",
       "      <th>5</th>\n",
       "      <td>Newcastle</td>\n",
       "      <td>in</td>\n",
       "      <td>[]</td>\n",
       "    </tr>\n",
       "    <tr>\n",
       "      <th>6</th>\n",
       "      <td>.</td>\n",
       "      <td>love</td>\n",
       "      <td>[]</td>\n",
       "    </tr>\n",
       "    <tr>\n",
       "      <th>7</th>\n",
       "      <td>Delicious</td>\n",
       "      <td>cocktails</td>\n",
       "      <td>[]</td>\n",
       "    </tr>\n",
       "    <tr>\n",
       "      <th>8</th>\n",
       "      <td>cocktails</td>\n",
       "      <td>cocktails</td>\n",
       "      <td>[Delicious, and, has]</td>\n",
       "    </tr>\n",
       "    <tr>\n",
       "      <th>9</th>\n",
       "      <td>and</td>\n",
       "      <td>cocktails</td>\n",
       "      <td>[]</td>\n",
       "    </tr>\n",
       "    <tr>\n",
       "      <th>10</th>\n",
       "      <td>it</td>\n",
       "      <td>has</td>\n",
       "      <td>[]</td>\n",
       "    </tr>\n",
       "    <tr>\n",
       "      <th>11</th>\n",
       "      <td>has</td>\n",
       "      <td>cocktails</td>\n",
       "      <td>[it, atmosphere, .]</td>\n",
       "    </tr>\n",
       "    <tr>\n",
       "      <th>12</th>\n",
       "      <td>a</td>\n",
       "      <td>atmosphere</td>\n",
       "      <td>[]</td>\n",
       "    </tr>\n",
       "    <tr>\n",
       "      <th>13</th>\n",
       "      <td>really</td>\n",
       "      <td>friendly</td>\n",
       "      <td>[]</td>\n",
       "    </tr>\n",
       "    <tr>\n",
       "      <th>14</th>\n",
       "      <td>friendly</td>\n",
       "      <td>atmosphere</td>\n",
       "      <td>[really]</td>\n",
       "    </tr>\n",
       "    <tr>\n",
       "      <th>15</th>\n",
       "      <td>atmosphere</td>\n",
       "      <td>has</td>\n",
       "      <td>[a, friendly]</td>\n",
       "    </tr>\n",
       "    <tr>\n",
       "      <th>16</th>\n",
       "      <td>.</td>\n",
       "      <td>has</td>\n",
       "      <td>[]</td>\n",
       "    </tr>\n",
       "  </tbody>\n",
       "</table>\n",
       "</div>"
      ],
      "text/plain": [
       "    token_text  token_head          token_children\n",
       "0            I        love                      []\n",
       "1         love        love  [I, restaurant, in, .]\n",
       "2         this  restaurant                      []\n",
       "3   restaurant        love                  [this]\n",
       "4           in        love             [Newcastle]\n",
       "5    Newcastle          in                      []\n",
       "6            .        love                      []\n",
       "7    Delicious   cocktails                      []\n",
       "8    cocktails   cocktails   [Delicious, and, has]\n",
       "9          and   cocktails                      []\n",
       "10          it         has                      []\n",
       "11         has   cocktails     [it, atmosphere, .]\n",
       "12           a  atmosphere                      []\n",
       "13      really    friendly                      []\n",
       "14    friendly  atmosphere                [really]\n",
       "15  atmosphere         has           [a, friendly]\n",
       "16           .         has                      []"
      ]
     },
     "execution_count": 5,
     "metadata": {},
     "output_type": "execute_result"
    }
   ],
   "source": [
    "token_head = [token.head for token in doc]\n",
    "token_children = [list(token.children) for token in doc]\n",
    "\n",
    "headers_ = ['token_text','token_head','token_children']\n",
    "\n",
    "pd.DataFrame(list(zip(token_text, token_head, token_children)),columns=headers_)"
   ]
  },
  {
   "cell_type": "code",
   "execution_count": 6,
   "metadata": {
    "collapsed": false
   },
   "outputs": [
    {
     "name": "stderr",
     "output_type": "stream",
     "text": [
      "C:\\Users\\schapira.d\\AppData\\Local\\Continuum\\Anaconda3\\lib\\runpy.py:193: DeprecationWarning: Positional arguments to Doc.merge are deprecated. Instead, use the keyword arguments, for example tag=, lemma= or ent_type=.\n",
      "  \"__main__\", mod_spec)\n",
      "C:\\Users\\schapira.d\\AppData\\Local\\Continuum\\Anaconda3\\lib\\runpy.py:193: DeprecationWarning: Positional arguments to Doc.merge are deprecated. Instead, use the keyword arguments, for example tag=, lemma= or ent_type=.\n",
      "  \"__main__\", mod_spec)\n"
     ]
    },
    {
     "data": {
      "text/html": [
       "<svg xmlns=\"http://www.w3.org/2000/svg\" xmlns:xlink=\"http://www.w3.org/1999/xlink\" id=\"0\" class=\"displacy\" width=\"1400\" height=\"317.0\" style=\"max-width: none; height: 317.0px; color: #000000; background: #ffffff; font-family: Arial\">\n",
       "<text class=\"displacy-token\" fill=\"currentColor\" text-anchor=\"middle\" y=\"227.0\">\n",
       "    <tspan class=\"displacy-word\" fill=\"currentColor\" x=\"50\">I</tspan>\n",
       "    <tspan class=\"displacy-tag\" dy=\"2em\" fill=\"currentColor\" x=\"50\">PRON</tspan>\n",
       "</text>\n",
       "\n",
       "<text class=\"displacy-token\" fill=\"currentColor\" text-anchor=\"middle\" y=\"227.0\">\n",
       "    <tspan class=\"displacy-word\" fill=\"currentColor\" x=\"140\">love</tspan>\n",
       "    <tspan class=\"displacy-tag\" dy=\"2em\" fill=\"currentColor\" x=\"140\">VERB</tspan>\n",
       "</text>\n",
       "\n",
       "<text class=\"displacy-token\" fill=\"currentColor\" text-anchor=\"middle\" y=\"227.0\">\n",
       "    <tspan class=\"displacy-word\" fill=\"currentColor\" x=\"230\">this</tspan>\n",
       "    <tspan class=\"displacy-tag\" dy=\"2em\" fill=\"currentColor\" x=\"230\">DET</tspan>\n",
       "</text>\n",
       "\n",
       "<text class=\"displacy-token\" fill=\"currentColor\" text-anchor=\"middle\" y=\"227.0\">\n",
       "    <tspan class=\"displacy-word\" fill=\"currentColor\" x=\"320\">restaurant</tspan>\n",
       "    <tspan class=\"displacy-tag\" dy=\"2em\" fill=\"currentColor\" x=\"320\">NOUN</tspan>\n",
       "</text>\n",
       "\n",
       "<text class=\"displacy-token\" fill=\"currentColor\" text-anchor=\"middle\" y=\"227.0\">\n",
       "    <tspan class=\"displacy-word\" fill=\"currentColor\" x=\"410\">in</tspan>\n",
       "    <tspan class=\"displacy-tag\" dy=\"2em\" fill=\"currentColor\" x=\"410\">ADP</tspan>\n",
       "</text>\n",
       "\n",
       "<text class=\"displacy-token\" fill=\"currentColor\" text-anchor=\"middle\" y=\"227.0\">\n",
       "    <tspan class=\"displacy-word\" fill=\"currentColor\" x=\"500\">Newcastle.</tspan>\n",
       "    <tspan class=\"displacy-tag\" dy=\"2em\" fill=\"currentColor\" x=\"500\">PROPN</tspan>\n",
       "</text>\n",
       "\n",
       "<text class=\"displacy-token\" fill=\"currentColor\" text-anchor=\"middle\" y=\"227.0\">\n",
       "    <tspan class=\"displacy-word\" fill=\"currentColor\" x=\"590\">Delicious</tspan>\n",
       "    <tspan class=\"displacy-tag\" dy=\"2em\" fill=\"currentColor\" x=\"590\">ADJ</tspan>\n",
       "</text>\n",
       "\n",
       "<text class=\"displacy-token\" fill=\"currentColor\" text-anchor=\"middle\" y=\"227.0\">\n",
       "    <tspan class=\"displacy-word\" fill=\"currentColor\" x=\"680\">cocktails</tspan>\n",
       "    <tspan class=\"displacy-tag\" dy=\"2em\" fill=\"currentColor\" x=\"680\">NOUN</tspan>\n",
       "</text>\n",
       "\n",
       "<text class=\"displacy-token\" fill=\"currentColor\" text-anchor=\"middle\" y=\"227.0\">\n",
       "    <tspan class=\"displacy-word\" fill=\"currentColor\" x=\"770\">and</tspan>\n",
       "    <tspan class=\"displacy-tag\" dy=\"2em\" fill=\"currentColor\" x=\"770\">CCONJ</tspan>\n",
       "</text>\n",
       "\n",
       "<text class=\"displacy-token\" fill=\"currentColor\" text-anchor=\"middle\" y=\"227.0\">\n",
       "    <tspan class=\"displacy-word\" fill=\"currentColor\" x=\"860\">it</tspan>\n",
       "    <tspan class=\"displacy-tag\" dy=\"2em\" fill=\"currentColor\" x=\"860\">PRON</tspan>\n",
       "</text>\n",
       "\n",
       "<text class=\"displacy-token\" fill=\"currentColor\" text-anchor=\"middle\" y=\"227.0\">\n",
       "    <tspan class=\"displacy-word\" fill=\"currentColor\" x=\"950\">has</tspan>\n",
       "    <tspan class=\"displacy-tag\" dy=\"2em\" fill=\"currentColor\" x=\"950\">VERB</tspan>\n",
       "</text>\n",
       "\n",
       "<text class=\"displacy-token\" fill=\"currentColor\" text-anchor=\"middle\" y=\"227.0\">\n",
       "    <tspan class=\"displacy-word\" fill=\"currentColor\" x=\"1040\">a</tspan>\n",
       "    <tspan class=\"displacy-tag\" dy=\"2em\" fill=\"currentColor\" x=\"1040\">DET</tspan>\n",
       "</text>\n",
       "\n",
       "<text class=\"displacy-token\" fill=\"currentColor\" text-anchor=\"middle\" y=\"227.0\">\n",
       "    <tspan class=\"displacy-word\" fill=\"currentColor\" x=\"1130\">really</tspan>\n",
       "    <tspan class=\"displacy-tag\" dy=\"2em\" fill=\"currentColor\" x=\"1130\">ADV</tspan>\n",
       "</text>\n",
       "\n",
       "<text class=\"displacy-token\" fill=\"currentColor\" text-anchor=\"middle\" y=\"227.0\">\n",
       "    <tspan class=\"displacy-word\" fill=\"currentColor\" x=\"1220\">friendly</tspan>\n",
       "    <tspan class=\"displacy-tag\" dy=\"2em\" fill=\"currentColor\" x=\"1220\">ADJ</tspan>\n",
       "</text>\n",
       "\n",
       "<text class=\"displacy-token\" fill=\"currentColor\" text-anchor=\"middle\" y=\"227.0\">\n",
       "    <tspan class=\"displacy-word\" fill=\"currentColor\" x=\"1310\">atmosphere.</tspan>\n",
       "    <tspan class=\"displacy-tag\" dy=\"2em\" fill=\"currentColor\" x=\"1310\">NOUN</tspan>\n",
       "</text>\n",
       "\n",
       "<g class=\"displacy-arrow\">\n",
       "    <path class=\"displacy-arc\" id=\"arrow-0-0\" stroke-width=\"2px\" d=\"M70,182.0 C70,137.0 125.0,137.0 125.0,182.0\" fill=\"none\" stroke=\"currentColor\"/>\n",
       "    <text dy=\"1.25em\" style=\"font-size: 0.8em; letter-spacing: 1px\">\n",
       "        <textPath xlink:href=\"#arrow-0-0\" class=\"displacy-label\" startOffset=\"50%\" fill=\"currentColor\" text-anchor=\"middle\">nsubj</textPath>\n",
       "    </text>\n",
       "    <path class=\"displacy-arrowhead\" d=\"M70,184.0 L62,172.0 78,172.0\" fill=\"currentColor\"/>\n",
       "</g>\n",
       "\n",
       "<g class=\"displacy-arrow\">\n",
       "    <path class=\"displacy-arc\" id=\"arrow-0-1\" stroke-width=\"2px\" d=\"M250,182.0 C250,137.0 305.0,137.0 305.0,182.0\" fill=\"none\" stroke=\"currentColor\"/>\n",
       "    <text dy=\"1.25em\" style=\"font-size: 0.8em; letter-spacing: 1px\">\n",
       "        <textPath xlink:href=\"#arrow-0-1\" class=\"displacy-label\" startOffset=\"50%\" fill=\"currentColor\" text-anchor=\"middle\">det</textPath>\n",
       "    </text>\n",
       "    <path class=\"displacy-arrowhead\" d=\"M250,184.0 L242,172.0 258,172.0\" fill=\"currentColor\"/>\n",
       "</g>\n",
       "\n",
       "<g class=\"displacy-arrow\">\n",
       "    <path class=\"displacy-arc\" id=\"arrow-0-2\" stroke-width=\"2px\" d=\"M160,182.0 C160,92.0 310.0,92.0 310.0,182.0\" fill=\"none\" stroke=\"currentColor\"/>\n",
       "    <text dy=\"1.25em\" style=\"font-size: 0.8em; letter-spacing: 1px\">\n",
       "        <textPath xlink:href=\"#arrow-0-2\" class=\"displacy-label\" startOffset=\"50%\" fill=\"currentColor\" text-anchor=\"middle\">dobj</textPath>\n",
       "    </text>\n",
       "    <path class=\"displacy-arrowhead\" d=\"M310.0,184.0 L318.0,172.0 302.0,172.0\" fill=\"currentColor\"/>\n",
       "</g>\n",
       "\n",
       "<g class=\"displacy-arrow\">\n",
       "    <path class=\"displacy-arc\" id=\"arrow-0-3\" stroke-width=\"2px\" d=\"M160,182.0 C160,47.0 405.0,47.0 405.0,182.0\" fill=\"none\" stroke=\"currentColor\"/>\n",
       "    <text dy=\"1.25em\" style=\"font-size: 0.8em; letter-spacing: 1px\">\n",
       "        <textPath xlink:href=\"#arrow-0-3\" class=\"displacy-label\" startOffset=\"50%\" fill=\"currentColor\" text-anchor=\"middle\">prep</textPath>\n",
       "    </text>\n",
       "    <path class=\"displacy-arrowhead\" d=\"M405.0,184.0 L413.0,172.0 397.0,172.0\" fill=\"currentColor\"/>\n",
       "</g>\n",
       "\n",
       "<g class=\"displacy-arrow\">\n",
       "    <path class=\"displacy-arc\" id=\"arrow-0-4\" stroke-width=\"2px\" d=\"M430,182.0 C430,137.0 485.0,137.0 485.0,182.0\" fill=\"none\" stroke=\"currentColor\"/>\n",
       "    <text dy=\"1.25em\" style=\"font-size: 0.8em; letter-spacing: 1px\">\n",
       "        <textPath xlink:href=\"#arrow-0-4\" class=\"displacy-label\" startOffset=\"50%\" fill=\"currentColor\" text-anchor=\"middle\">pobj</textPath>\n",
       "    </text>\n",
       "    <path class=\"displacy-arrowhead\" d=\"M485.0,184.0 L493.0,172.0 477.0,172.0\" fill=\"currentColor\"/>\n",
       "</g>\n",
       "\n",
       "<g class=\"displacy-arrow\">\n",
       "    <path class=\"displacy-arc\" id=\"arrow-0-5\" stroke-width=\"2px\" d=\"M610,182.0 C610,137.0 665.0,137.0 665.0,182.0\" fill=\"none\" stroke=\"currentColor\"/>\n",
       "    <text dy=\"1.25em\" style=\"font-size: 0.8em; letter-spacing: 1px\">\n",
       "        <textPath xlink:href=\"#arrow-0-5\" class=\"displacy-label\" startOffset=\"50%\" fill=\"currentColor\" text-anchor=\"middle\">amod</textPath>\n",
       "    </text>\n",
       "    <path class=\"displacy-arrowhead\" d=\"M610,184.0 L602,172.0 618,172.0\" fill=\"currentColor\"/>\n",
       "</g>\n",
       "\n",
       "<g class=\"displacy-arrow\">\n",
       "    <path class=\"displacy-arc\" id=\"arrow-0-6\" stroke-width=\"2px\" d=\"M700,182.0 C700,137.0 755.0,137.0 755.0,182.0\" fill=\"none\" stroke=\"currentColor\"/>\n",
       "    <text dy=\"1.25em\" style=\"font-size: 0.8em; letter-spacing: 1px\">\n",
       "        <textPath xlink:href=\"#arrow-0-6\" class=\"displacy-label\" startOffset=\"50%\" fill=\"currentColor\" text-anchor=\"middle\">cc</textPath>\n",
       "    </text>\n",
       "    <path class=\"displacy-arrowhead\" d=\"M755.0,184.0 L763.0,172.0 747.0,172.0\" fill=\"currentColor\"/>\n",
       "</g>\n",
       "\n",
       "<g class=\"displacy-arrow\">\n",
       "    <path class=\"displacy-arc\" id=\"arrow-0-7\" stroke-width=\"2px\" d=\"M880,182.0 C880,137.0 935.0,137.0 935.0,182.0\" fill=\"none\" stroke=\"currentColor\"/>\n",
       "    <text dy=\"1.25em\" style=\"font-size: 0.8em; letter-spacing: 1px\">\n",
       "        <textPath xlink:href=\"#arrow-0-7\" class=\"displacy-label\" startOffset=\"50%\" fill=\"currentColor\" text-anchor=\"middle\">nsubj</textPath>\n",
       "    </text>\n",
       "    <path class=\"displacy-arrowhead\" d=\"M880,184.0 L872,172.0 888,172.0\" fill=\"currentColor\"/>\n",
       "</g>\n",
       "\n",
       "<g class=\"displacy-arrow\">\n",
       "    <path class=\"displacy-arc\" id=\"arrow-0-8\" stroke-width=\"2px\" d=\"M700,182.0 C700,47.0 945.0,47.0 945.0,182.0\" fill=\"none\" stroke=\"currentColor\"/>\n",
       "    <text dy=\"1.25em\" style=\"font-size: 0.8em; letter-spacing: 1px\">\n",
       "        <textPath xlink:href=\"#arrow-0-8\" class=\"displacy-label\" startOffset=\"50%\" fill=\"currentColor\" text-anchor=\"middle\">conj</textPath>\n",
       "    </text>\n",
       "    <path class=\"displacy-arrowhead\" d=\"M945.0,184.0 L953.0,172.0 937.0,172.0\" fill=\"currentColor\"/>\n",
       "</g>\n",
       "\n",
       "<g class=\"displacy-arrow\">\n",
       "    <path class=\"displacy-arc\" id=\"arrow-0-9\" stroke-width=\"2px\" d=\"M1060,182.0 C1060,47.0 1305.0,47.0 1305.0,182.0\" fill=\"none\" stroke=\"currentColor\"/>\n",
       "    <text dy=\"1.25em\" style=\"font-size: 0.8em; letter-spacing: 1px\">\n",
       "        <textPath xlink:href=\"#arrow-0-9\" class=\"displacy-label\" startOffset=\"50%\" fill=\"currentColor\" text-anchor=\"middle\">det</textPath>\n",
       "    </text>\n",
       "    <path class=\"displacy-arrowhead\" d=\"M1060,184.0 L1052,172.0 1068,172.0\" fill=\"currentColor\"/>\n",
       "</g>\n",
       "\n",
       "<g class=\"displacy-arrow\">\n",
       "    <path class=\"displacy-arc\" id=\"arrow-0-10\" stroke-width=\"2px\" d=\"M1150,182.0 C1150,137.0 1205.0,137.0 1205.0,182.0\" fill=\"none\" stroke=\"currentColor\"/>\n",
       "    <text dy=\"1.25em\" style=\"font-size: 0.8em; letter-spacing: 1px\">\n",
       "        <textPath xlink:href=\"#arrow-0-10\" class=\"displacy-label\" startOffset=\"50%\" fill=\"currentColor\" text-anchor=\"middle\">advmod</textPath>\n",
       "    </text>\n",
       "    <path class=\"displacy-arrowhead\" d=\"M1150,184.0 L1142,172.0 1158,172.0\" fill=\"currentColor\"/>\n",
       "</g>\n",
       "\n",
       "<g class=\"displacy-arrow\">\n",
       "    <path class=\"displacy-arc\" id=\"arrow-0-11\" stroke-width=\"2px\" d=\"M1240,182.0 C1240,137.0 1295.0,137.0 1295.0,182.0\" fill=\"none\" stroke=\"currentColor\"/>\n",
       "    <text dy=\"1.25em\" style=\"font-size: 0.8em; letter-spacing: 1px\">\n",
       "        <textPath xlink:href=\"#arrow-0-11\" class=\"displacy-label\" startOffset=\"50%\" fill=\"currentColor\" text-anchor=\"middle\">amod</textPath>\n",
       "    </text>\n",
       "    <path class=\"displacy-arrowhead\" d=\"M1240,184.0 L1232,172.0 1248,172.0\" fill=\"currentColor\"/>\n",
       "</g>\n",
       "\n",
       "<g class=\"displacy-arrow\">\n",
       "    <path class=\"displacy-arc\" id=\"arrow-0-12\" stroke-width=\"2px\" d=\"M970,182.0 C970,2.0 1310.0,2.0 1310.0,182.0\" fill=\"none\" stroke=\"currentColor\"/>\n",
       "    <text dy=\"1.25em\" style=\"font-size: 0.8em; letter-spacing: 1px\">\n",
       "        <textPath xlink:href=\"#arrow-0-12\" class=\"displacy-label\" startOffset=\"50%\" fill=\"currentColor\" text-anchor=\"middle\">dobj</textPath>\n",
       "    </text>\n",
       "    <path class=\"displacy-arrowhead\" d=\"M1310.0,184.0 L1318.0,172.0 1302.0,172.0\" fill=\"currentColor\"/>\n",
       "</g>\n",
       "</svg>"
      ],
      "text/plain": [
       "<IPython.core.display.HTML object>"
      ]
     },
     "metadata": {},
     "output_type": "display_data"
    }
   ],
   "source": [
    "displacy.render(doc, style='dep', jupyter=True, options={'distance': 90})"
   ]
  },
  {
   "cell_type": "code",
   "execution_count": 7,
   "metadata": {
    "collapsed": false
   },
   "outputs": [
    {
     "data": {
      "text/html": [
       "<div class=\"entities\" style=\"line-height: 2.5\">I love this restaurant in \n",
       "<mark class=\"entity\" style=\"background: #feca74; padding: 0.45em 0.6em; margin: 0 0.25em; line-height: 1; border-radius: 0.35em; box-decoration-break: clone; -webkit-box-decoration-break: clone\">\n",
       "    Newcastle\n",
       "    <span style=\"font-size: 0.8em; font-weight: bold; line-height: 1; border-radius: 0.35em; text-transform: uppercase; vertical-align: middle; margin-left: 0.5rem\">GPE</span>\n",
       "</mark>\n",
       ". Delicious cocktails and it has a really friendly atmosphere.</div>"
      ],
      "text/plain": [
       "<IPython.core.display.HTML object>"
      ]
     },
     "metadata": {},
     "output_type": "display_data"
    }
   ],
   "source": [
    "displacy.render(doc, style='ent', jupyter=True, options={'distance': 90})"
   ]
  },
  {
   "cell_type": "markdown",
   "metadata": {},
   "source": [
    "# Noun chunks"
   ]
  },
  {
   "cell_type": "code",
   "execution_count": 8,
   "metadata": {
    "collapsed": false
   },
   "outputs": [
    {
     "data": {
      "text/plain": [
       "[I,\n",
       " this restaurant,\n",
       " Newcastle,\n",
       " Delicious cocktails,\n",
       " it,\n",
       " a really friendly atmosphere]"
      ]
     },
     "execution_count": 8,
     "metadata": {},
     "output_type": "execute_result"
    }
   ],
   "source": [
    "list(doc.noun_chunks)"
   ]
  },
  {
   "cell_type": "markdown",
   "metadata": {},
   "source": [
    "# Sentences"
   ]
  },
  {
   "cell_type": "code",
   "execution_count": 9,
   "metadata": {
    "collapsed": false
   },
   "outputs": [
    {
     "data": {
      "text/plain": [
       "[I love this restaurant in Newcastle.,\n",
       " Delicious cocktails and it has a really friendly atmosphere.]"
      ]
     },
     "execution_count": 9,
     "metadata": {},
     "output_type": "execute_result"
    }
   ],
   "source": [
    "list(doc.sents)"
   ]
  },
  {
   "cell_type": "markdown",
   "metadata": {},
   "source": [
    "# Doc2Vec\n",
    "\n",
    "300 dimensions doc2vec as average of token vectors trained using GloVe on Common Crawl dataset\n",
    "\n",
    "https://en.wikipedia.org/wiki/Common_Crawl\n",
    "\n",
    "https://spacy.io/models/en#section-en_vectors_web_lg\n"
   ]
  },
  {
   "cell_type": "code",
   "execution_count": 10,
   "metadata": {
    "collapsed": false
   },
   "outputs": [
    {
     "name": "stdout",
     "output_type": "stream",
     "text": [
      "[0.04656335, 0.19671877, -0.040661585, -0.18454778, 0.21376491, 0.11574505, 0.095128357, -0.22332935, 0.03805406, 2.0259137]...\n",
      "Vector dimension:300\n"
     ]
    }
   ],
   "source": [
    "doc_vec = list(doc.vector)\n",
    "print(\"{}...\\nVector dimension:{}\".format(doc_vec[0:10],len(doc_vec)))"
   ]
  },
  {
   "cell_type": "code",
   "execution_count": 11,
   "metadata": {
    "collapsed": true
   },
   "outputs": [],
   "source": [
    "docs = ['Pork is amazing','Sausage was great','Data Science made simple']"
   ]
  },
  {
   "cell_type": "code",
   "execution_count": 12,
   "metadata": {
    "collapsed": false
   },
   "outputs": [
    {
     "data": {
      "text/html": [
       "<div>\n",
       "<style>\n",
       "    .dataframe thead tr:only-child th {\n",
       "        text-align: right;\n",
       "    }\n",
       "\n",
       "    .dataframe thead th {\n",
       "        text-align: left;\n",
       "    }\n",
       "\n",
       "    .dataframe tbody tr th {\n",
       "        vertical-align: top;\n",
       "    }\n",
       "</style>\n",
       "<table border=\"1\" class=\"dataframe\">\n",
       "  <thead>\n",
       "    <tr style=\"text-align: right;\">\n",
       "      <th></th>\n",
       "      <th>doc_text</th>\n",
       "      <th>doc_vec</th>\n",
       "    </tr>\n",
       "  </thead>\n",
       "  <tbody>\n",
       "    <tr>\n",
       "      <th>0</th>\n",
       "      <td>Pork is amazing</td>\n",
       "      <td>[-0.332147, 0.185507, 0.2583, 0.130159, 0.1209...</td>\n",
       "    </tr>\n",
       "    <tr>\n",
       "      <th>1</th>\n",
       "      <td>Sausage was great</td>\n",
       "      <td>[-0.206415, 0.324179, 0.18584, 0.0150927, -7.1...</td>\n",
       "    </tr>\n",
       "    <tr>\n",
       "      <th>2</th>\n",
       "      <td>Data Science made simple</td>\n",
       "      <td>[-0.26445, 0.0599757, -0.181192, 0.0580605, -0...</td>\n",
       "    </tr>\n",
       "  </tbody>\n",
       "</table>\n",
       "</div>"
      ],
      "text/plain": [
       "                   doc_text                                            doc_vec\n",
       "0           Pork is amazing  [-0.332147, 0.185507, 0.2583, 0.130159, 0.1209...\n",
       "1         Sausage was great  [-0.206415, 0.324179, 0.18584, 0.0150927, -7.1...\n",
       "2  Data Science made simple  [-0.26445, 0.0599757, -0.181192, 0.0580605, -0..."
      ]
     },
     "execution_count": 12,
     "metadata": {},
     "output_type": "execute_result"
    }
   ],
   "source": [
    "def doc2vec(docs):\n",
    "\n",
    "    \"\"\"\n",
    "    Get doc2vec representations of docs using spaCy pre-trained word vectors\n",
    "    \"\"\"\n",
    "    \n",
    "    doc_text = []\n",
    "    doc_vec = []\n",
    "\n",
    "    for doc in nlp.pipe(docs):\n",
    "        doc_text.append(doc.text)\n",
    "        doc_vec.append(doc.vector)\n",
    "    \n",
    "    headers = ['doc_text','doc_vec']\n",
    "\n",
    "    return pd.DataFrame(list(zip(doc_text, doc_vec)),columns=headers)\n",
    "\n",
    "df = doc2vec(docs)\n",
    "df"
   ]
  },
  {
   "cell_type": "code",
   "execution_count": 13,
   "metadata": {
    "collapsed": false
   },
   "outputs": [
    {
     "data": {
      "text/html": [
       "<div>\n",
       "<style>\n",
       "    .dataframe thead tr:only-child th {\n",
       "        text-align: right;\n",
       "    }\n",
       "\n",
       "    .dataframe thead th {\n",
       "        text-align: left;\n",
       "    }\n",
       "\n",
       "    .dataframe tbody tr th {\n",
       "        vertical-align: top;\n",
       "    }\n",
       "</style>\n",
       "<table border=\"1\" class=\"dataframe\">\n",
       "  <thead>\n",
       "    <tr style=\"text-align: right;\">\n",
       "      <th></th>\n",
       "      <th>Pork is amazing</th>\n",
       "      <th>Sausage was great</th>\n",
       "      <th>Data Science made simple</th>\n",
       "    </tr>\n",
       "  </thead>\n",
       "  <tbody>\n",
       "    <tr>\n",
       "      <th>Pork is amazing</th>\n",
       "      <td>1.000000</td>\n",
       "      <td>0.816263</td>\n",
       "      <td>0.543974</td>\n",
       "    </tr>\n",
       "    <tr>\n",
       "      <th>Sausage was great</th>\n",
       "      <td>0.816263</td>\n",
       "      <td>1.000000</td>\n",
       "      <td>0.508645</td>\n",
       "    </tr>\n",
       "    <tr>\n",
       "      <th>Data Science made simple</th>\n",
       "      <td>0.543974</td>\n",
       "      <td>0.508645</td>\n",
       "      <td>1.000000</td>\n",
       "    </tr>\n",
       "  </tbody>\n",
       "</table>\n",
       "</div>"
      ],
      "text/plain": [
       "                          Pork is amazing  Sausage was great  \\\n",
       "Pork is amazing                  1.000000           0.816263   \n",
       "Sausage was great                0.816263           1.000000   \n",
       "Data Science made simple         0.543974           0.508645   \n",
       "\n",
       "                          Data Science made simple  \n",
       "Pork is amazing                           0.543974  \n",
       "Sausage was great                         0.508645  \n",
       "Data Science made simple                  1.000000  "
      ]
     },
     "execution_count": 13,
     "metadata": {},
     "output_type": "execute_result"
    }
   ],
   "source": [
    "import sklearn\n",
    "from sklearn.metrics.pairwise import cosine_similarity\n",
    "\n",
    "docvecs = df['doc_vec'].tolist()\n",
    "cos_sim = cosine_similarity(docvecs)\n",
    "df_sim = pd.DataFrame(cos_sim,columns=df['doc_text'].tolist(),index=df['doc_text'].tolist())\n",
    "df_sim"
   ]
  },
  {
   "cell_type": "markdown",
   "metadata": {},
   "source": [
    "# Let's build an NLP pipeline"
   ]
  },
  {
   "cell_type": "code",
   "execution_count": 14,
   "metadata": {
    "collapsed": false
   },
   "outputs": [
    {
     "data": {
      "text/html": [
       "<div>\n",
       "<style>\n",
       "    .dataframe thead tr:only-child th {\n",
       "        text-align: right;\n",
       "    }\n",
       "\n",
       "    .dataframe thead th {\n",
       "        text-align: left;\n",
       "    }\n",
       "\n",
       "    .dataframe tbody tr th {\n",
       "        vertical-align: top;\n",
       "    }\n",
       "</style>\n",
       "<table border=\"1\" class=\"dataframe\">\n",
       "  <thead>\n",
       "    <tr style=\"text-align: right;\">\n",
       "      <th></th>\n",
       "      <th>business_id</th>\n",
       "      <th>name</th>\n",
       "      <th>city</th>\n",
       "      <th>categories</th>\n",
       "      <th>text</th>\n",
       "      <th>stars_x</th>\n",
       "    </tr>\n",
       "  </thead>\n",
       "  <tbody>\n",
       "    <tr>\n",
       "      <th>0</th>\n",
       "      <td>vXEZ-r6fah-5Fjt3a6c-Gw</td>\n",
       "      <td>\"The Cheesecake Factory\"</td>\n",
       "      <td>Pittsburgh</td>\n",
       "      <td>American (Traditional);Desserts;Food;American ...</td>\n",
       "      <td>One of my favorite places too take the kids wh...</td>\n",
       "      <td>4</td>\n",
       "    </tr>\n",
       "  </tbody>\n",
       "</table>\n",
       "</div>"
      ],
      "text/plain": [
       "              business_id                      name        city  \\\n",
       "0  vXEZ-r6fah-5Fjt3a6c-Gw  \"The Cheesecake Factory\"  Pittsburgh   \n",
       "\n",
       "                                          categories  \\\n",
       "0  American (Traditional);Desserts;Food;American ...   \n",
       "\n",
       "                                                text  stars_x  \n",
       "0  One of my favorite places too take the kids wh...        4  "
      ]
     },
     "execution_count": 14,
     "metadata": {},
     "output_type": "execute_result"
    }
   ],
   "source": [
    "#load dataset\n",
    "path = 'C:\\\\Users\\\\schapira.d\\\\Desktop\\\\Data Science Meetup\\\\yelp_reviews_1M.csv'\n",
    "reviews_df = pd.read_csv(path,encoding='utf-8')\n",
    "reviews = reviews_df['text'].fillna('').tolist()\n",
    "reviews_df.head(1)"
   ]
  },
  {
   "cell_type": "code",
   "execution_count": 15,
   "metadata": {
    "collapsed": true
   },
   "outputs": [],
   "source": [
    "nlp = spacy.load('en_core_web_sm',disable=['parser','ner'])"
   ]
  },
  {
   "cell_type": "code",
   "execution_count": 16,
   "metadata": {
    "collapsed": false
   },
   "outputs": [
    {
     "name": "stdout",
     "output_type": "stream",
     "text": [
      "done\n"
     ]
    }
   ],
   "source": [
    "def TextPreprocessSpaCy(docs):\n",
    "    text = []\n",
    "    pos = ['ADJ','NOUN']\n",
    "    for doc in nlp.pipe(docs):\n",
    "        tokens = [token.lemma_.lower() for token in doc if token.pos_ in pos and token.is_stop == False] \n",
    "        text.append(tokens)\n",
    "                \n",
    "    return text\n",
    "\n",
    "def TextPreprocessNLTK(docs):\n",
    "    text = []\n",
    "    stop = stopwords.words('english')\n",
    "    lemma = WordNetLemmatizer()\n",
    "    pos = ['JJ','JJR','JJS','NN','NNS']\n",
    "    \n",
    "    for i in docs:\n",
    "        tokens = word_tokenize(i.lower()) # tokenize\n",
    "        tokens = pos_tag(tokens) # POS tagger\n",
    "        tokens = [i[0] for i in tokens if i[1] in pos] # POS filter\n",
    "        tokens = [i for i in tokens if i not in string.punctuation] # remove punctuation\n",
    "        tokens = [i for i in tokens if i not in stop] # remove stopwords\n",
    "        tokens = [lemma.lemmatize(i) for i in tokens] # lemmatize\n",
    "        text.append(tokens)\n",
    "        \n",
    "    return text\n",
    "\n",
    "print('done')"
   ]
  },
  {
   "cell_type": "code",
   "execution_count": 17,
   "metadata": {
    "collapsed": false
   },
   "outputs": [
    {
     "name": "stdout",
     "output_type": "stream",
     "text": [
      "['great', 'tour', 'end', 'addition', 'restaurant', 'stop', 'rooftop', 'club', 'charming', 'restaurant', 'outdoor', 'garden', 'stop', 'nice', 'downtown', 'tour'] \n",
      " --SpaCy Run time: 7.053212404251099s\n",
      "\n",
      "['great', 'tour', 'full', 'end', 'addition', 'restaurant', 'stop', 'rooftop', 'club', 'container', 'park', 'charming', 'restaurant', 'outdoor', 'garden', 'stop', 'fremont', 'experience', 'nice', 'downtown', 'vega', 'enough', 'tour'] \n",
      " --NLTK Run time: 11.497220277786255s\n",
      "\n",
      "This was a great tour!  We were so full by the end.  In addition to the restaurants, stops included a rooftop club, the Container Park and a charming restaurant with outdoor garden.  The stops were outside of the Fremont Experience, so it was nice to see what else downtown Vegas has to offer.  (But still close enough to walk over to Fremont and check that out too.)  Highly recommend this tour!\n"
     ]
    }
   ],
   "source": [
    "start = time.time()\n",
    "SpaCy = TextPreprocessSpaCy(reviews[0:1000])\n",
    "end = time.time()\n",
    "print(\"{} \\n --SpaCy Run time: {}s\".format(SpaCy[5],(end-start)))\n",
    "\n",
    "start = time.time()\n",
    "NLTK = TextPreprocessNLTK(reviews[0:1000])\n",
    "end = time.time()\n",
    "print(\"\\n{} \\n --NLTK Run time: {}s\".format(NLTK[5],(end-start)))\n",
    "\n",
    "print(\"\\n{}\".format(reviews[5]))"
   ]
  },
  {
   "cell_type": "code",
   "execution_count": 18,
   "metadata": {
    "collapsed": false
   },
   "outputs": [
    {
     "name": "stdout",
     "output_type": "stream",
     "text": [
      "Wall time: 2h 40min 3s\n"
     ]
    }
   ],
   "source": [
    "%%time\n",
    "reviews_spacy = TextPreprocessSpaCy(reviews)"
   ]
  },
  {
   "cell_type": "code",
   "execution_count": 19,
   "metadata": {
    "collapsed": true
   },
   "outputs": [],
   "source": [
    "path ='C:\\\\Users\\\\schapira.d\\\\Desktop\\\\Data Science Meetup\\\\tokens.pkl' \n",
    "with open(path,'wb') as f:\n",
    "    pickle.dump(reviews_spacy, f)"
   ]
  },
  {
   "cell_type": "markdown",
   "metadata": {
    "collapsed": false
   },
   "source": [
    "#load preprocessed dataset:\n",
    "import pickle\n",
    "path_tokens ='C:\\\\Users\\\\schapira.d\\\\Desktop\\\\Data Science Meetup\\\\tokens_spacy.pkl' \n",
    "with open(path_tokens,'rb') as f:\n",
    "    reviews_spacy = pickle.load(f)"
   ]
  },
  {
   "cell_type": "markdown",
   "metadata": {},
   "source": [
    "# Phrases model"
   ]
  },
  {
   "cell_type": "code",
   "execution_count": 20,
   "metadata": {
    "collapsed": false
   },
   "outputs": [
    {
     "name": "stdout",
     "output_type": "stream",
     "text": [
      "Wall time: 6min 56s\n"
     ]
    }
   ],
   "source": [
    "%%time\n",
    "#Phrases Modelling\n",
    "bigram_model = Phrases(reviews_spacy,min_count=25)\n",
    "bigram_phraser = Phraser(bigram_model)\n",
    "trigram_model = Phrases(bigram_phraser[reviews_spacy],min_count=25)\n",
    "trigram_phraser = Phraser(trigram_model)\n",
    "\n",
    "reviews_trigram = list(trigram_phraser[bigram_phraser[reviews_spacy]])"
   ]
  },
  {
   "cell_type": "code",
   "execution_count": 22,
   "metadata": {
    "collapsed": false
   },
   "outputs": [],
   "source": [
    "path ='C:\\\\Users\\\\schapira.d\\\\Desktop\\\\Data Science Meetup\\\\phrases.pkl' \n",
    "with open(path,'wb') as f:\n",
    "    pickle.dump(reviews_trigram, f)"
   ]
  },
  {
   "cell_type": "code",
   "execution_count": 23,
   "metadata": {
    "collapsed": false
   },
   "outputs": [
    {
     "name": "stdout",
     "output_type": "stream",
     "text": [
      "['good', 'people', 'review', 'casual', 'nice', 'service', 'great', 'food', 'good', 'italian', 'restaurant', 'wine', 'selection', 'great', 'good', 'oil_vinegar', 'bread', 'bread', 'hot', 'table', 'oyster', 'good', 'nice', 'little', 'hidden_gem', 'downfall', 'coffee', 'brand', 'good', 'cup_coffee', 'espresso', 'dinner', 'quality', 'coffee', 'bean\\\\/brand']\n"
     ]
    }
   ],
   "source": [
    "print(reviews_trigram[2])"
   ]
  },
  {
   "cell_type": "code",
   "execution_count": 24,
   "metadata": {
    "collapsed": false
   },
   "outputs": [
    {
     "data": {
      "text/html": [
       "<div>\n",
       "<style>\n",
       "    .dataframe thead tr:only-child th {\n",
       "        text-align: right;\n",
       "    }\n",
       "\n",
       "    .dataframe thead th {\n",
       "        text-align: left;\n",
       "    }\n",
       "\n",
       "    .dataframe tbody tr th {\n",
       "        vertical-align: top;\n",
       "    }\n",
       "</style>\n",
       "<table border=\"1\" class=\"dataframe\">\n",
       "  <thead>\n",
       "    <tr style=\"text-align: right;\">\n",
       "      <th></th>\n",
       "      <th>Phrases</th>\n",
       "      <th>business_id</th>\n",
       "      <th>name</th>\n",
       "      <th>city</th>\n",
       "      <th>categories</th>\n",
       "      <th>text</th>\n",
       "      <th>stars_x</th>\n",
       "    </tr>\n",
       "  </thead>\n",
       "  <tbody>\n",
       "    <tr>\n",
       "      <th>0</th>\n",
       "      <td>favorite</td>\n",
       "      <td>vXEZ-r6fah-5Fjt3a6c-Gw</td>\n",
       "      <td>\"The Cheesecake Factory\"</td>\n",
       "      <td>Pittsburgh</td>\n",
       "      <td>American (Traditional);Desserts;Food;American ...</td>\n",
       "      <td>One of my favorite places too take the kids wh...</td>\n",
       "      <td>4</td>\n",
       "    </tr>\n",
       "    <tr>\n",
       "      <th>1</th>\n",
       "      <td>place</td>\n",
       "      <td>vXEZ-r6fah-5Fjt3a6c-Gw</td>\n",
       "      <td>\"The Cheesecake Factory\"</td>\n",
       "      <td>Pittsburgh</td>\n",
       "      <td>American (Traditional);Desserts;Food;American ...</td>\n",
       "      <td>One of my favorite places too take the kids wh...</td>\n",
       "      <td>4</td>\n",
       "    </tr>\n",
       "    <tr>\n",
       "      <th>2</th>\n",
       "      <td>kid</td>\n",
       "      <td>vXEZ-r6fah-5Fjt3a6c-Gw</td>\n",
       "      <td>\"The Cheesecake Factory\"</td>\n",
       "      <td>Pittsburgh</td>\n",
       "      <td>American (Traditional);Desserts;Food;American ...</td>\n",
       "      <td>One of my favorite places too take the kids wh...</td>\n",
       "      <td>4</td>\n",
       "    </tr>\n",
       "    <tr>\n",
       "      <th>3</th>\n",
       "      <td>college</td>\n",
       "      <td>vXEZ-r6fah-5Fjt3a6c-Gw</td>\n",
       "      <td>\"The Cheesecake Factory\"</td>\n",
       "      <td>Pittsburgh</td>\n",
       "      <td>American (Traditional);Desserts;Food;American ...</td>\n",
       "      <td>One of my favorite places too take the kids wh...</td>\n",
       "      <td>4</td>\n",
       "    </tr>\n",
       "    <tr>\n",
       "      <th>4</th>\n",
       "      <td>holiday</td>\n",
       "      <td>vXEZ-r6fah-5Fjt3a6c-Gw</td>\n",
       "      <td>\"The Cheesecake Factory\"</td>\n",
       "      <td>Pittsburgh</td>\n",
       "      <td>American (Traditional);Desserts;Food;American ...</td>\n",
       "      <td>One of my favorite places too take the kids wh...</td>\n",
       "      <td>4</td>\n",
       "    </tr>\n",
       "  </tbody>\n",
       "</table>\n",
       "</div>"
      ],
      "text/plain": [
       "    Phrases             business_id                      name        city  \\\n",
       "0  favorite  vXEZ-r6fah-5Fjt3a6c-Gw  \"The Cheesecake Factory\"  Pittsburgh   \n",
       "1     place  vXEZ-r6fah-5Fjt3a6c-Gw  \"The Cheesecake Factory\"  Pittsburgh   \n",
       "2       kid  vXEZ-r6fah-5Fjt3a6c-Gw  \"The Cheesecake Factory\"  Pittsburgh   \n",
       "3   college  vXEZ-r6fah-5Fjt3a6c-Gw  \"The Cheesecake Factory\"  Pittsburgh   \n",
       "4   holiday  vXEZ-r6fah-5Fjt3a6c-Gw  \"The Cheesecake Factory\"  Pittsburgh   \n",
       "\n",
       "                                          categories  \\\n",
       "0  American (Traditional);Desserts;Food;American ...   \n",
       "1  American (Traditional);Desserts;Food;American ...   \n",
       "2  American (Traditional);Desserts;Food;American ...   \n",
       "3  American (Traditional);Desserts;Food;American ...   \n",
       "4  American (Traditional);Desserts;Food;American ...   \n",
       "\n",
       "                                                text  stars_x  \n",
       "0  One of my favorite places too take the kids wh...        4  \n",
       "1  One of my favorite places too take the kids wh...        4  \n",
       "2  One of my favorite places too take the kids wh...        4  \n",
       "3  One of my favorite places too take the kids wh...        4  \n",
       "4  One of my favorite places too take the kids wh...        4  "
      ]
     },
     "execution_count": 24,
     "metadata": {},
     "output_type": "execute_result"
    }
   ],
   "source": [
    "#Transforming to df for unstacking and join\n",
    "df_phrases = pd.DataFrame({\"Phrases\" : reviews_trigram}).head(100000)\n",
    "\n",
    "#Unstacking...\n",
    "df = pd.DataFrame({'Index':np.repeat(df_phrases.index.values, df_phrases.Phrases.str.len()),\n",
    "              'Phrases':np.concatenate(df_phrases.Phrases.values)})\n",
    "df.set_index('Index', inplace = True)\n",
    "\n",
    "#Joining with full data\n",
    "reviews_phrases = pd.merge(df,reviews_df.head(100000),left_index=True,right_index=True).reset_index(drop=True)\n",
    "pd.to_numeric(reviews_phrases.stars_x)\n",
    "\n",
    "reviews_phrases.head()"
   ]
  },
  {
   "cell_type": "markdown",
   "metadata": {},
   "source": [
    "# Topic Modelling"
   ]
  },
  {
   "cell_type": "code",
   "execution_count": null,
   "metadata": {
    "collapsed": false
   },
   "outputs": [
    {
     "name": "stdout",
     "output_type": "stream",
     "text": [
      "Wall time: 1min 17s\n"
     ]
    }
   ],
   "source": [
    "%%time\n",
    "# turn tokenized documents into a id <-> term dictionary\n",
    "dictionary = corpora.Dictionary(reviews_trigram)\n",
    "dictionary.filter_extremes(no_below=10, no_above=0.4)\n",
    "dictionary.compactify()\n",
    "\n",
    "# convert tokenized documents into a document-term matrix\n",
    "corpus = [dictionary.doc2bow(i) for i in reviews_trigram]"
   ]
  },
  {
   "cell_type": "code",
   "execution_count": null,
   "metadata": {
    "collapsed": false
   },
   "outputs": [],
   "source": [
    "%%time\n",
    "lda_model = gensim.models.ldamulticore.LdaMulticore(corpus,num_topics=50, id2word=dictionary, workers=3, passes=10)\n",
    "lda_model.save('C:\\\\Users\\\\schapira.d\\\\Desktop\\\\Data Science Meetup\\\\lda_5010.model')"
   ]
  },
  {
   "cell_type": "code",
   "execution_count": null,
   "metadata": {
    "collapsed": true
   },
   "outputs": [],
   "source": [
    "#lda_model = models.LdaModel.load('C:\\\\Users\\\\schapira.d\\\\Desktop\\\\Data Science Meetup\\\\lda_50.model')"
   ]
  },
  {
   "cell_type": "code",
   "execution_count": null,
   "metadata": {
    "collapsed": false,
    "scrolled": true
   },
   "outputs": [],
   "source": [
    "lda_model.print_topics(num_words=5,num_topics=-1)"
   ]
  },
  {
   "cell_type": "code",
   "execution_count": null,
   "metadata": {
    "collapsed": true
   },
   "outputs": [],
   "source": [
    "def TopicDetection(doc,min_topic_freq,topn):\n",
    "    \"\"\"\n",
    "    Runs LDA against a document and returns most dominant topics & top keywords\n",
    "    associated with topics. \n",
    "    \"\"\"\n",
    "    \n",
    "    doc_tokens = TextPreprocessSpaCy(doc)[0] #spaCy preprocess\n",
    "    doc_trigram = list(trigram_phraser[bigram_phraser[doc_tokens]]) # phrase model\n",
    "    doc_bow = dictionary.doc2bow(doc_trigram) #create bow representation\n",
    "    doc_lda = lda_model[doc_bow] # run LDA on doc\n",
    "    \n",
    "    #create columns for output df\n",
    "    topic_num = [x[0] for x in doc_lda]\n",
    "    topic_freq = [x[1] for x in doc_lda]\n",
    "    topic_keywords = []\n",
    "    for i in doc_lda:\n",
    "        keywords = [x[0] for x in lda_model.show_topic(i[0],topn=topn)]\n",
    "        topic_keywords.append(keywords)\n",
    "    \n",
    "    headers = ['topic_num','topic_freq','topic_keywords']\n",
    "    df = pd.DataFrame(list(zip(topic_num, topic_freq, topic_keywords)),columns=headers)\n",
    "    df = df[df.topic_freq>min_topic_freq].sort_values('topic_freq',ascending=False).reset_index(drop=True)\n",
    "    \n",
    "    return df"
   ]
  },
  {
   "cell_type": "code",
   "execution_count": null,
   "metadata": {
    "collapsed": false
   },
   "outputs": [],
   "source": [
    "#Reviews - 2,30 german,70\n",
    "text = [reviews[70]]\n",
    "%time topic = TopicDetection(text,0.1,5)\n",
    "print(\"{}\\n\\n{}\".format(topic,text))"
   ]
  },
  {
   "cell_type": "code",
   "execution_count": null,
   "metadata": {
    "collapsed": false
   },
   "outputs": [],
   "source": [
    "text = ['My son loves yoyo sushi, the rolls are amazing and fresh but prices are a bit high']\n",
    "topic = TopicDetection(text,0.1,6)\n",
    "print(\"{}\\n\\n{}\".format(topic,text))"
   ]
  },
  {
   "cell_type": "code",
   "execution_count": null,
   "metadata": {
    "collapsed": true
   },
   "outputs": [],
   "source": []
  }
 ],
 "metadata": {
  "kernelspec": {
   "display_name": "Python 3",
   "language": "python",
   "name": "python3"
  },
  "language_info": {
   "codemirror_mode": {
    "name": "ipython",
    "version": 3
   },
   "file_extension": ".py",
   "mimetype": "text/x-python",
   "name": "python",
   "nbconvert_exporter": "python",
   "pygments_lexer": "ipython3",
   "version": "3.6.0"
  }
 },
 "nbformat": 4,
 "nbformat_minor": 2
}
